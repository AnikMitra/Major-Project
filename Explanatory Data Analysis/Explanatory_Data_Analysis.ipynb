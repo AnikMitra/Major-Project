{
  "nbformat": 4,
  "nbformat_minor": 0,
  "metadata": {
    "colab": {
      "name": "Explanatory Data Analysis.ipynb",
      "provenance": [],
      "collapsed_sections": [],
      "include_colab_link": true
    },
    "kernelspec": {
      "display_name": "Python 3",
      "name": "python3"
    },
    "language_info": {
      "name": "python"
    }
  },
  "cells": [
    {
      "cell_type": "markdown",
      "metadata": {
        "id": "view-in-github",
        "colab_type": "text"
      },
      "source": [
        "<a href=\"https://colab.research.google.com/github/AnikMitra/Major-Project/blob/main/Explanatory%20Data%20Analysis/Explanatory_Data_Analysis.ipynb\" target=\"_parent\"><img src=\"https://colab.research.google.com/assets/colab-badge.svg\" alt=\"Open In Colab\"/></a>"
      ]
    },
    {
      "cell_type": "markdown",
      "metadata": {
        "id": "I-fM8AGPo0mS"
      },
      "source": [
        "\n",
        "\n",
        "\n",
        "\n",
        "# **Classroom ID : DS-05-BS1**"
      ]
    },
    {
      "cell_type": "markdown",
      "metadata": {
        "id": "QtM72cfGocgQ"
      },
      "source": [
        "# Importing Dataset"
      ]
    },
    {
      "cell_type": "code",
      "metadata": {
        "id": "gtvBRApx7HWy",
        "colab": {
          "base_uri": "https://localhost:8080/"
        },
        "outputId": "1eb807b2-417a-4a03-d342-0aad8841e195"
      },
      "source": [
        "from google.colab import drive\n",
        "drive.mount('/content/drive')"
      ],
      "execution_count": 142,
      "outputs": [
        {
          "output_type": "stream",
          "text": [
            "Drive already mounted at /content/drive; to attempt to forcibly remount, call drive.mount(\"/content/drive\", force_remount=True).\n"
          ],
          "name": "stdout"
        }
      ]
    },
    {
      "cell_type": "code",
      "metadata": {
        "id": "LnGoIHtJ3kxY"
      },
      "source": [
        "import numpy as np\n",
        "import pandas as pd"
      ],
      "execution_count": 143,
      "outputs": []
    },
    {
      "cell_type": "code",
      "metadata": {
        "id": "kPR-IOlTx3r_"
      },
      "source": [
        "# Now, we can use pandas read_excel after installing the excel importer.\n",
        "!pip install -q xlrd"
      ],
      "execution_count": 144,
      "outputs": []
    },
    {
      "cell_type": "code",
      "metadata": {
        "colab": {
          "base_uri": "https://localhost:8080/",
          "height": 609
        },
        "id": "xJGgMMmHBII2",
        "outputId": "0b211846-70e6-46e3-def7-c540cfe6033c"
      },
      "source": [
        "df = pd.read_excel('/content/drive/MyDrive/smartknower data science course/Major Project/Explanatory Analysis/covid-data.xlsx')\n",
        "df"
      ],
      "execution_count": 145,
      "outputs": [
        {
          "output_type": "execute_result",
          "data": {
            "text/html": [
              "<div>\n",
              "<style scoped>\n",
              "    .dataframe tbody tr th:only-of-type {\n",
              "        vertical-align: middle;\n",
              "    }\n",
              "\n",
              "    .dataframe tbody tr th {\n",
              "        vertical-align: top;\n",
              "    }\n",
              "\n",
              "    .dataframe thead th {\n",
              "        text-align: right;\n",
              "    }\n",
              "</style>\n",
              "<table border=\"1\" class=\"dataframe\">\n",
              "  <thead>\n",
              "    <tr style=\"text-align: right;\">\n",
              "      <th></th>\n",
              "      <th>iso_code</th>\n",
              "      <th>continent</th>\n",
              "      <th>location</th>\n",
              "      <th>date</th>\n",
              "      <th>total_cases</th>\n",
              "      <th>new_cases</th>\n",
              "      <th>total_deaths</th>\n",
              "      <th>new_deaths</th>\n",
              "      <th>new_tests</th>\n",
              "      <th>total_tests</th>\n",
              "      <th>total_tests_per_thousand</th>\n",
              "      <th>positive_rate</th>\n",
              "      <th>total_vaccinations</th>\n",
              "      <th>people_vaccinated</th>\n",
              "      <th>people_fully_vaccinated</th>\n",
              "      <th>new_vaccinations</th>\n",
              "      <th>total_vaccinations_per_hundred</th>\n",
              "      <th>people_vaccinated_per_hundred</th>\n",
              "      <th>people_fully_vaccinated_per_hundred</th>\n",
              "    </tr>\n",
              "  </thead>\n",
              "  <tbody>\n",
              "    <tr>\n",
              "      <th>0</th>\n",
              "      <td>AFG</td>\n",
              "      <td>Asia</td>\n",
              "      <td>Afghanistan</td>\n",
              "      <td>2020-02-24</td>\n",
              "      <td>1.0</td>\n",
              "      <td>1.0</td>\n",
              "      <td>NaN</td>\n",
              "      <td>NaN</td>\n",
              "      <td>NaN</td>\n",
              "      <td>NaN</td>\n",
              "      <td>NaN</td>\n",
              "      <td>NaN</td>\n",
              "      <td>NaN</td>\n",
              "      <td>NaN</td>\n",
              "      <td>NaN</td>\n",
              "      <td>NaN</td>\n",
              "      <td>NaN</td>\n",
              "      <td>NaN</td>\n",
              "      <td>NaN</td>\n",
              "    </tr>\n",
              "    <tr>\n",
              "      <th>1</th>\n",
              "      <td>AFG</td>\n",
              "      <td>Asia</td>\n",
              "      <td>Afghanistan</td>\n",
              "      <td>2020-02-25</td>\n",
              "      <td>1.0</td>\n",
              "      <td>0.0</td>\n",
              "      <td>NaN</td>\n",
              "      <td>NaN</td>\n",
              "      <td>NaN</td>\n",
              "      <td>NaN</td>\n",
              "      <td>NaN</td>\n",
              "      <td>NaN</td>\n",
              "      <td>NaN</td>\n",
              "      <td>NaN</td>\n",
              "      <td>NaN</td>\n",
              "      <td>NaN</td>\n",
              "      <td>NaN</td>\n",
              "      <td>NaN</td>\n",
              "      <td>NaN</td>\n",
              "    </tr>\n",
              "    <tr>\n",
              "      <th>2</th>\n",
              "      <td>AFG</td>\n",
              "      <td>Asia</td>\n",
              "      <td>Afghanistan</td>\n",
              "      <td>2020-02-26</td>\n",
              "      <td>1.0</td>\n",
              "      <td>0.0</td>\n",
              "      <td>NaN</td>\n",
              "      <td>NaN</td>\n",
              "      <td>NaN</td>\n",
              "      <td>NaN</td>\n",
              "      <td>NaN</td>\n",
              "      <td>NaN</td>\n",
              "      <td>NaN</td>\n",
              "      <td>NaN</td>\n",
              "      <td>NaN</td>\n",
              "      <td>NaN</td>\n",
              "      <td>NaN</td>\n",
              "      <td>NaN</td>\n",
              "      <td>NaN</td>\n",
              "    </tr>\n",
              "    <tr>\n",
              "      <th>3</th>\n",
              "      <td>AFG</td>\n",
              "      <td>Asia</td>\n",
              "      <td>Afghanistan</td>\n",
              "      <td>2020-02-27</td>\n",
              "      <td>1.0</td>\n",
              "      <td>0.0</td>\n",
              "      <td>NaN</td>\n",
              "      <td>NaN</td>\n",
              "      <td>NaN</td>\n",
              "      <td>NaN</td>\n",
              "      <td>NaN</td>\n",
              "      <td>NaN</td>\n",
              "      <td>NaN</td>\n",
              "      <td>NaN</td>\n",
              "      <td>NaN</td>\n",
              "      <td>NaN</td>\n",
              "      <td>NaN</td>\n",
              "      <td>NaN</td>\n",
              "      <td>NaN</td>\n",
              "    </tr>\n",
              "    <tr>\n",
              "      <th>4</th>\n",
              "      <td>AFG</td>\n",
              "      <td>Asia</td>\n",
              "      <td>Afghanistan</td>\n",
              "      <td>2020-02-28</td>\n",
              "      <td>1.0</td>\n",
              "      <td>0.0</td>\n",
              "      <td>NaN</td>\n",
              "      <td>NaN</td>\n",
              "      <td>NaN</td>\n",
              "      <td>NaN</td>\n",
              "      <td>NaN</td>\n",
              "      <td>NaN</td>\n",
              "      <td>NaN</td>\n",
              "      <td>NaN</td>\n",
              "      <td>NaN</td>\n",
              "      <td>NaN</td>\n",
              "      <td>NaN</td>\n",
              "      <td>NaN</td>\n",
              "      <td>NaN</td>\n",
              "    </tr>\n",
              "    <tr>\n",
              "      <th>...</th>\n",
              "      <td>...</td>\n",
              "      <td>...</td>\n",
              "      <td>...</td>\n",
              "      <td>...</td>\n",
              "      <td>...</td>\n",
              "      <td>...</td>\n",
              "      <td>...</td>\n",
              "      <td>...</td>\n",
              "      <td>...</td>\n",
              "      <td>...</td>\n",
              "      <td>...</td>\n",
              "      <td>...</td>\n",
              "      <td>...</td>\n",
              "      <td>...</td>\n",
              "      <td>...</td>\n",
              "      <td>...</td>\n",
              "      <td>...</td>\n",
              "      <td>...</td>\n",
              "      <td>...</td>\n",
              "    </tr>\n",
              "    <tr>\n",
              "      <th>101129</th>\n",
              "      <td>ZWE</td>\n",
              "      <td>Africa</td>\n",
              "      <td>Zimbabwe</td>\n",
              "      <td>2021-07-04</td>\n",
              "      <td>54474.0</td>\n",
              "      <td>809.0</td>\n",
              "      <td>1878.0</td>\n",
              "      <td>19.0</td>\n",
              "      <td>3361.0</td>\n",
              "      <td>683467.0</td>\n",
              "      <td>45.985</td>\n",
              "      <td>0.153</td>\n",
              "      <td>1361210.0</td>\n",
              "      <td>793077.0</td>\n",
              "      <td>568133.0</td>\n",
              "      <td>1623.0</td>\n",
              "      <td>9.16</td>\n",
              "      <td>5.34</td>\n",
              "      <td>3.82</td>\n",
              "    </tr>\n",
              "    <tr>\n",
              "      <th>101130</th>\n",
              "      <td>ZWE</td>\n",
              "      <td>Africa</td>\n",
              "      <td>Zimbabwe</td>\n",
              "      <td>2021-07-05</td>\n",
              "      <td>56014.0</td>\n",
              "      <td>1540.0</td>\n",
              "      <td>1911.0</td>\n",
              "      <td>33.0</td>\n",
              "      <td>3635.0</td>\n",
              "      <td>687102.0</td>\n",
              "      <td>46.229</td>\n",
              "      <td>0.165</td>\n",
              "      <td>1369436.0</td>\n",
              "      <td>797715.0</td>\n",
              "      <td>571721.0</td>\n",
              "      <td>8226.0</td>\n",
              "      <td>9.21</td>\n",
              "      <td>5.37</td>\n",
              "      <td>3.85</td>\n",
              "    </tr>\n",
              "    <tr>\n",
              "      <th>101131</th>\n",
              "      <td>ZWE</td>\n",
              "      <td>Africa</td>\n",
              "      <td>Zimbabwe</td>\n",
              "      <td>2021-07-06</td>\n",
              "      <td>57963.0</td>\n",
              "      <td>1949.0</td>\n",
              "      <td>1939.0</td>\n",
              "      <td>28.0</td>\n",
              "      <td>10598.0</td>\n",
              "      <td>697700.0</td>\n",
              "      <td>46.942</td>\n",
              "      <td>0.172</td>\n",
              "      <td>1382567.0</td>\n",
              "      <td>807633.0</td>\n",
              "      <td>574934.0</td>\n",
              "      <td>13131.0</td>\n",
              "      <td>9.30</td>\n",
              "      <td>5.43</td>\n",
              "      <td>3.87</td>\n",
              "    </tr>\n",
              "    <tr>\n",
              "      <th>101132</th>\n",
              "      <td>ZWE</td>\n",
              "      <td>Africa</td>\n",
              "      <td>Zimbabwe</td>\n",
              "      <td>2021-07-07</td>\n",
              "      <td>60227.0</td>\n",
              "      <td>2264.0</td>\n",
              "      <td>1973.0</td>\n",
              "      <td>34.0</td>\n",
              "      <td>10362.0</td>\n",
              "      <td>708062.0</td>\n",
              "      <td>47.639</td>\n",
              "      <td>0.190</td>\n",
              "      <td>1398757.0</td>\n",
              "      <td>819058.0</td>\n",
              "      <td>579699.0</td>\n",
              "      <td>16190.0</td>\n",
              "      <td>9.41</td>\n",
              "      <td>5.51</td>\n",
              "      <td>3.90</td>\n",
              "    </tr>\n",
              "    <tr>\n",
              "      <th>101133</th>\n",
              "      <td>ZWE</td>\n",
              "      <td>Africa</td>\n",
              "      <td>Zimbabwe</td>\n",
              "      <td>2021-07-08</td>\n",
              "      <td>62383.0</td>\n",
              "      <td>2156.0</td>\n",
              "      <td>2029.0</td>\n",
              "      <td>56.0</td>\n",
              "      <td>12811.0</td>\n",
              "      <td>720873.0</td>\n",
              "      <td>48.501</td>\n",
              "      <td>0.198</td>\n",
              "      <td>NaN</td>\n",
              "      <td>NaN</td>\n",
              "      <td>NaN</td>\n",
              "      <td>NaN</td>\n",
              "      <td>NaN</td>\n",
              "      <td>NaN</td>\n",
              "      <td>NaN</td>\n",
              "    </tr>\n",
              "  </tbody>\n",
              "</table>\n",
              "<p>101134 rows × 19 columns</p>\n",
              "</div>"
            ],
            "text/plain": [
              "       iso_code  ... people_fully_vaccinated_per_hundred\n",
              "0           AFG  ...                                 NaN\n",
              "1           AFG  ...                                 NaN\n",
              "2           AFG  ...                                 NaN\n",
              "3           AFG  ...                                 NaN\n",
              "4           AFG  ...                                 NaN\n",
              "...         ...  ...                                 ...\n",
              "101129      ZWE  ...                                3.82\n",
              "101130      ZWE  ...                                3.85\n",
              "101131      ZWE  ...                                3.87\n",
              "101132      ZWE  ...                                3.90\n",
              "101133      ZWE  ...                                 NaN\n",
              "\n",
              "[101134 rows x 19 columns]"
            ]
          },
          "metadata": {
            "tags": []
          },
          "execution_count": 145
        }
      ]
    },
    {
      "cell_type": "markdown",
      "metadata": {
        "id": "LafkuJUXpUZX"
      },
      "source": [
        "# Checking and Cleaning the Dataset"
      ]
    },
    {
      "cell_type": "code",
      "metadata": {
        "colab": {
          "base_uri": "https://localhost:8080/"
        },
        "id": "DxL4me-oYj1r",
        "outputId": "063bb4e4-7fcf-4ed9-e0e7-d5e2a47eaf30"
      },
      "source": [
        "df.info()"
      ],
      "execution_count": 146,
      "outputs": [
        {
          "output_type": "stream",
          "text": [
            "<class 'pandas.core.frame.DataFrame'>\n",
            "RangeIndex: 101134 entries, 0 to 101133\n",
            "Data columns (total 19 columns):\n",
            " #   Column                               Non-Null Count   Dtype  \n",
            "---  ------                               --------------   -----  \n",
            " 0   iso_code                             101134 non-null  object \n",
            " 1   continent                            96402 non-null   object \n",
            " 2   location                             101134 non-null  object \n",
            " 3   date                                 101134 non-null  object \n",
            " 4   total_cases                          97388 non-null   float64\n",
            " 5   new_cases                            97385 non-null   float64\n",
            " 6   total_deaths                         87207 non-null   float64\n",
            " 7   new_deaths                           87363 non-null   float64\n",
            " 8   new_tests                            45511 non-null   float64\n",
            " 9   total_tests                          45178 non-null   float64\n",
            " 10  total_tests_per_thousand             45174 non-null   float64\n",
            " 11  positive_rate                        49510 non-null   float64\n",
            " 12  total_vaccinations                   17388 non-null   float64\n",
            " 13  people_vaccinated                    16548 non-null   float64\n",
            " 14  people_fully_vaccinated              13674 non-null   float64\n",
            " 15  new_vaccinations                     14493 non-null   float64\n",
            " 16  total_vaccinations_per_hundred       17388 non-null   float64\n",
            " 17  people_vaccinated_per_hundred        16548 non-null   float64\n",
            " 18  people_fully_vaccinated_per_hundred  13674 non-null   float64\n",
            "dtypes: float64(15), object(4)\n",
            "memory usage: 14.7+ MB\n"
          ],
          "name": "stdout"
        }
      ]
    },
    {
      "cell_type": "code",
      "metadata": {
        "colab": {
          "base_uri": "https://localhost:8080/",
          "height": 609
        },
        "id": "uRBnULayDw0X",
        "outputId": "a1d049a4-cc21-45b2-aca7-7d050565bd7a"
      },
      "source": [
        "df1= df.loc[df[\"location\"] != \"Asia\"]\n",
        "df1= df1.loc[df1[\"location\"] != \"Africa\"]\n",
        "df1= df1.loc[df1[\"location\"] != \"World\"]\n",
        "df1= df1.loc[df1[\"location\"] != \"Europe\"]\n",
        "df1= df1.loc[df1[\"location\"] != \"North America\"]\n",
        "df1= df1.loc[df1[\"location\"] != \"South America\"]\n",
        "df1= df1.loc[df1[\"location\"] != \"Oceania\"]\n",
        "df1 = df1.loc[df1[\"date\"] == \"2021-07-08\"]\n",
        "df1"
      ],
      "execution_count": 147,
      "outputs": [
        {
          "output_type": "execute_result",
          "data": {
            "text/html": [
              "<div>\n",
              "<style scoped>\n",
              "    .dataframe tbody tr th:only-of-type {\n",
              "        vertical-align: middle;\n",
              "    }\n",
              "\n",
              "    .dataframe tbody tr th {\n",
              "        vertical-align: top;\n",
              "    }\n",
              "\n",
              "    .dataframe thead th {\n",
              "        text-align: right;\n",
              "    }\n",
              "</style>\n",
              "<table border=\"1\" class=\"dataframe\">\n",
              "  <thead>\n",
              "    <tr style=\"text-align: right;\">\n",
              "      <th></th>\n",
              "      <th>iso_code</th>\n",
              "      <th>continent</th>\n",
              "      <th>location</th>\n",
              "      <th>date</th>\n",
              "      <th>total_cases</th>\n",
              "      <th>new_cases</th>\n",
              "      <th>total_deaths</th>\n",
              "      <th>new_deaths</th>\n",
              "      <th>new_tests</th>\n",
              "      <th>total_tests</th>\n",
              "      <th>total_tests_per_thousand</th>\n",
              "      <th>positive_rate</th>\n",
              "      <th>total_vaccinations</th>\n",
              "      <th>people_vaccinated</th>\n",
              "      <th>people_fully_vaccinated</th>\n",
              "      <th>new_vaccinations</th>\n",
              "      <th>total_vaccinations_per_hundred</th>\n",
              "      <th>people_vaccinated_per_hundred</th>\n",
              "      <th>people_fully_vaccinated_per_hundred</th>\n",
              "    </tr>\n",
              "  </thead>\n",
              "  <tbody>\n",
              "    <tr>\n",
              "      <th>500</th>\n",
              "      <td>AFG</td>\n",
              "      <td>Asia</td>\n",
              "      <td>Afghanistan</td>\n",
              "      <td>2021-07-08</td>\n",
              "      <td>130113.0</td>\n",
              "      <td>1092.0</td>\n",
              "      <td>5477.0</td>\n",
              "      <td>62.0</td>\n",
              "      <td>NaN</td>\n",
              "      <td>NaN</td>\n",
              "      <td>NaN</td>\n",
              "      <td>NaN</td>\n",
              "      <td>NaN</td>\n",
              "      <td>NaN</td>\n",
              "      <td>NaN</td>\n",
              "      <td>NaN</td>\n",
              "      <td>NaN</td>\n",
              "      <td>NaN</td>\n",
              "      <td>NaN</td>\n",
              "    </tr>\n",
              "    <tr>\n",
              "      <th>1512</th>\n",
              "      <td>ALB</td>\n",
              "      <td>Europe</td>\n",
              "      <td>Albania</td>\n",
              "      <td>2021-07-08</td>\n",
              "      <td>132565.0</td>\n",
              "      <td>8.0</td>\n",
              "      <td>2456.0</td>\n",
              "      <td>0.0</td>\n",
              "      <td>NaN</td>\n",
              "      <td>NaN</td>\n",
              "      <td>NaN</td>\n",
              "      <td>NaN</td>\n",
              "      <td>1011297.0</td>\n",
              "      <td>582106.0</td>\n",
              "      <td>429191.0</td>\n",
              "      <td>5634.0</td>\n",
              "      <td>35.14</td>\n",
              "      <td>20.23</td>\n",
              "      <td>14.91</td>\n",
              "    </tr>\n",
              "    <tr>\n",
              "      <th>2012</th>\n",
              "      <td>DZA</td>\n",
              "      <td>Africa</td>\n",
              "      <td>Algeria</td>\n",
              "      <td>2021-07-08</td>\n",
              "      <td>143652.0</td>\n",
              "      <td>620.0</td>\n",
              "      <td>3798.0</td>\n",
              "      <td>12.0</td>\n",
              "      <td>NaN</td>\n",
              "      <td>NaN</td>\n",
              "      <td>NaN</td>\n",
              "      <td>NaN</td>\n",
              "      <td>NaN</td>\n",
              "      <td>NaN</td>\n",
              "      <td>NaN</td>\n",
              "      <td>NaN</td>\n",
              "      <td>NaN</td>\n",
              "      <td>NaN</td>\n",
              "      <td>NaN</td>\n",
              "    </tr>\n",
              "    <tr>\n",
              "      <th>2506</th>\n",
              "      <td>AND</td>\n",
              "      <td>Europe</td>\n",
              "      <td>Andorra</td>\n",
              "      <td>2021-07-08</td>\n",
              "      <td>14050.0</td>\n",
              "      <td>29.0</td>\n",
              "      <td>127.0</td>\n",
              "      <td>0.0</td>\n",
              "      <td>NaN</td>\n",
              "      <td>NaN</td>\n",
              "      <td>NaN</td>\n",
              "      <td>NaN</td>\n",
              "      <td>NaN</td>\n",
              "      <td>NaN</td>\n",
              "      <td>NaN</td>\n",
              "      <td>NaN</td>\n",
              "      <td>NaN</td>\n",
              "      <td>NaN</td>\n",
              "      <td>NaN</td>\n",
              "    </tr>\n",
              "    <tr>\n",
              "      <th>2982</th>\n",
              "      <td>AGO</td>\n",
              "      <td>Africa</td>\n",
              "      <td>Angola</td>\n",
              "      <td>2021-07-08</td>\n",
              "      <td>39593.0</td>\n",
              "      <td>102.0</td>\n",
              "      <td>925.0</td>\n",
              "      <td>0.0</td>\n",
              "      <td>NaN</td>\n",
              "      <td>NaN</td>\n",
              "      <td>NaN</td>\n",
              "      <td>NaN</td>\n",
              "      <td>NaN</td>\n",
              "      <td>NaN</td>\n",
              "      <td>NaN</td>\n",
              "      <td>NaN</td>\n",
              "      <td>NaN</td>\n",
              "      <td>NaN</td>\n",
              "      <td>NaN</td>\n",
              "    </tr>\n",
              "    <tr>\n",
              "      <th>...</th>\n",
              "      <td>...</td>\n",
              "      <td>...</td>\n",
              "      <td>...</td>\n",
              "      <td>...</td>\n",
              "      <td>...</td>\n",
              "      <td>...</td>\n",
              "      <td>...</td>\n",
              "      <td>...</td>\n",
              "      <td>...</td>\n",
              "      <td>...</td>\n",
              "      <td>...</td>\n",
              "      <td>...</td>\n",
              "      <td>...</td>\n",
              "      <td>...</td>\n",
              "      <td>...</td>\n",
              "      <td>...</td>\n",
              "      <td>...</td>\n",
              "      <td>...</td>\n",
              "      <td>...</td>\n",
              "    </tr>\n",
              "    <tr>\n",
              "      <th>98551</th>\n",
              "      <td>VEN</td>\n",
              "      <td>South America</td>\n",
              "      <td>Venezuela</td>\n",
              "      <td>2021-07-08</td>\n",
              "      <td>281907.0</td>\n",
              "      <td>927.0</td>\n",
              "      <td>3253.0</td>\n",
              "      <td>14.0</td>\n",
              "      <td>NaN</td>\n",
              "      <td>NaN</td>\n",
              "      <td>NaN</td>\n",
              "      <td>NaN</td>\n",
              "      <td>NaN</td>\n",
              "      <td>NaN</td>\n",
              "      <td>NaN</td>\n",
              "      <td>NaN</td>\n",
              "      <td>NaN</td>\n",
              "      <td>NaN</td>\n",
              "      <td>NaN</td>\n",
              "    </tr>\n",
              "    <tr>\n",
              "      <th>99084</th>\n",
              "      <td>VNM</td>\n",
              "      <td>Asia</td>\n",
              "      <td>Vietnam</td>\n",
              "      <td>2021-07-08</td>\n",
              "      <td>24810.0</td>\n",
              "      <td>1425.0</td>\n",
              "      <td>104.0</td>\n",
              "      <td>2.0</td>\n",
              "      <td>NaN</td>\n",
              "      <td>NaN</td>\n",
              "      <td>NaN</td>\n",
              "      <td>NaN</td>\n",
              "      <td>3983800.0</td>\n",
              "      <td>3734268.0</td>\n",
              "      <td>249532.0</td>\n",
              "      <td>22844.0</td>\n",
              "      <td>4.09</td>\n",
              "      <td>3.84</td>\n",
              "      <td>0.26</td>\n",
              "    </tr>\n",
              "    <tr>\n",
              "      <th>100179</th>\n",
              "      <td>YEM</td>\n",
              "      <td>Asia</td>\n",
              "      <td>Yemen</td>\n",
              "      <td>2021-07-08</td>\n",
              "      <td>6936.0</td>\n",
              "      <td>2.0</td>\n",
              "      <td>1365.0</td>\n",
              "      <td>1.0</td>\n",
              "      <td>NaN</td>\n",
              "      <td>NaN</td>\n",
              "      <td>NaN</td>\n",
              "      <td>NaN</td>\n",
              "      <td>NaN</td>\n",
              "      <td>NaN</td>\n",
              "      <td>NaN</td>\n",
              "      <td>NaN</td>\n",
              "      <td>NaN</td>\n",
              "      <td>NaN</td>\n",
              "      <td>NaN</td>\n",
              "    </tr>\n",
              "    <tr>\n",
              "      <th>100657</th>\n",
              "      <td>ZMB</td>\n",
              "      <td>Africa</td>\n",
              "      <td>Zambia</td>\n",
              "      <td>2021-07-08</td>\n",
              "      <td>170456.0</td>\n",
              "      <td>1453.0</td>\n",
              "      <td>2672.0</td>\n",
              "      <td>54.0</td>\n",
              "      <td>6484.0</td>\n",
              "      <td>1939454.0</td>\n",
              "      <td>105.497</td>\n",
              "      <td>0.234</td>\n",
              "      <td>171238.0</td>\n",
              "      <td>142198.0</td>\n",
              "      <td>29040.0</td>\n",
              "      <td>1316.0</td>\n",
              "      <td>0.93</td>\n",
              "      <td>0.77</td>\n",
              "      <td>0.16</td>\n",
              "    </tr>\n",
              "    <tr>\n",
              "      <th>101133</th>\n",
              "      <td>ZWE</td>\n",
              "      <td>Africa</td>\n",
              "      <td>Zimbabwe</td>\n",
              "      <td>2021-07-08</td>\n",
              "      <td>62383.0</td>\n",
              "      <td>2156.0</td>\n",
              "      <td>2029.0</td>\n",
              "      <td>56.0</td>\n",
              "      <td>12811.0</td>\n",
              "      <td>720873.0</td>\n",
              "      <td>48.501</td>\n",
              "      <td>0.198</td>\n",
              "      <td>NaN</td>\n",
              "      <td>NaN</td>\n",
              "      <td>NaN</td>\n",
              "      <td>NaN</td>\n",
              "      <td>NaN</td>\n",
              "      <td>NaN</td>\n",
              "      <td>NaN</td>\n",
              "    </tr>\n",
              "  </tbody>\n",
              "</table>\n",
              "<p>200 rows × 19 columns</p>\n",
              "</div>"
            ],
            "text/plain": [
              "       iso_code  ... people_fully_vaccinated_per_hundred\n",
              "500         AFG  ...                                 NaN\n",
              "1512        ALB  ...                               14.91\n",
              "2012        DZA  ...                                 NaN\n",
              "2506        AND  ...                                 NaN\n",
              "2982        AGO  ...                                 NaN\n",
              "...         ...  ...                                 ...\n",
              "98551       VEN  ...                                 NaN\n",
              "99084       VNM  ...                                0.26\n",
              "100179      YEM  ...                                 NaN\n",
              "100657      ZMB  ...                                0.16\n",
              "101133      ZWE  ...                                 NaN\n",
              "\n",
              "[200 rows x 19 columns]"
            ]
          },
          "metadata": {
            "tags": []
          },
          "execution_count": 147
        }
      ]
    },
    {
      "cell_type": "code",
      "metadata": {
        "colab": {
          "base_uri": "https://localhost:8080/",
          "height": 419
        },
        "id": "lxb_-E5z9Zby",
        "outputId": "ebc1a5e8-cd6b-4292-cdaa-356eca7f9c48"
      },
      "source": [
        "df2=df1[[\"location\", \"total_cases\", \"total_deaths\", \"total_tests\", \"people_vaccinated\"]]\n",
        "df2"
      ],
      "execution_count": 148,
      "outputs": [
        {
          "output_type": "execute_result",
          "data": {
            "text/html": [
              "<div>\n",
              "<style scoped>\n",
              "    .dataframe tbody tr th:only-of-type {\n",
              "        vertical-align: middle;\n",
              "    }\n",
              "\n",
              "    .dataframe tbody tr th {\n",
              "        vertical-align: top;\n",
              "    }\n",
              "\n",
              "    .dataframe thead th {\n",
              "        text-align: right;\n",
              "    }\n",
              "</style>\n",
              "<table border=\"1\" class=\"dataframe\">\n",
              "  <thead>\n",
              "    <tr style=\"text-align: right;\">\n",
              "      <th></th>\n",
              "      <th>location</th>\n",
              "      <th>total_cases</th>\n",
              "      <th>total_deaths</th>\n",
              "      <th>total_tests</th>\n",
              "      <th>people_vaccinated</th>\n",
              "    </tr>\n",
              "  </thead>\n",
              "  <tbody>\n",
              "    <tr>\n",
              "      <th>500</th>\n",
              "      <td>Afghanistan</td>\n",
              "      <td>130113.0</td>\n",
              "      <td>5477.0</td>\n",
              "      <td>NaN</td>\n",
              "      <td>NaN</td>\n",
              "    </tr>\n",
              "    <tr>\n",
              "      <th>1512</th>\n",
              "      <td>Albania</td>\n",
              "      <td>132565.0</td>\n",
              "      <td>2456.0</td>\n",
              "      <td>NaN</td>\n",
              "      <td>582106.0</td>\n",
              "    </tr>\n",
              "    <tr>\n",
              "      <th>2012</th>\n",
              "      <td>Algeria</td>\n",
              "      <td>143652.0</td>\n",
              "      <td>3798.0</td>\n",
              "      <td>NaN</td>\n",
              "      <td>NaN</td>\n",
              "    </tr>\n",
              "    <tr>\n",
              "      <th>2506</th>\n",
              "      <td>Andorra</td>\n",
              "      <td>14050.0</td>\n",
              "      <td>127.0</td>\n",
              "      <td>NaN</td>\n",
              "      <td>NaN</td>\n",
              "    </tr>\n",
              "    <tr>\n",
              "      <th>2982</th>\n",
              "      <td>Angola</td>\n",
              "      <td>39593.0</td>\n",
              "      <td>925.0</td>\n",
              "      <td>NaN</td>\n",
              "      <td>NaN</td>\n",
              "    </tr>\n",
              "    <tr>\n",
              "      <th>...</th>\n",
              "      <td>...</td>\n",
              "      <td>...</td>\n",
              "      <td>...</td>\n",
              "      <td>...</td>\n",
              "      <td>...</td>\n",
              "    </tr>\n",
              "    <tr>\n",
              "      <th>98551</th>\n",
              "      <td>Venezuela</td>\n",
              "      <td>281907.0</td>\n",
              "      <td>3253.0</td>\n",
              "      <td>NaN</td>\n",
              "      <td>NaN</td>\n",
              "    </tr>\n",
              "    <tr>\n",
              "      <th>99084</th>\n",
              "      <td>Vietnam</td>\n",
              "      <td>24810.0</td>\n",
              "      <td>104.0</td>\n",
              "      <td>NaN</td>\n",
              "      <td>3734268.0</td>\n",
              "    </tr>\n",
              "    <tr>\n",
              "      <th>100179</th>\n",
              "      <td>Yemen</td>\n",
              "      <td>6936.0</td>\n",
              "      <td>1365.0</td>\n",
              "      <td>NaN</td>\n",
              "      <td>NaN</td>\n",
              "    </tr>\n",
              "    <tr>\n",
              "      <th>100657</th>\n",
              "      <td>Zambia</td>\n",
              "      <td>170456.0</td>\n",
              "      <td>2672.0</td>\n",
              "      <td>1939454.0</td>\n",
              "      <td>142198.0</td>\n",
              "    </tr>\n",
              "    <tr>\n",
              "      <th>101133</th>\n",
              "      <td>Zimbabwe</td>\n",
              "      <td>62383.0</td>\n",
              "      <td>2029.0</td>\n",
              "      <td>720873.0</td>\n",
              "      <td>NaN</td>\n",
              "    </tr>\n",
              "  </tbody>\n",
              "</table>\n",
              "<p>200 rows × 5 columns</p>\n",
              "</div>"
            ],
            "text/plain": [
              "           location  total_cases  total_deaths  total_tests  people_vaccinated\n",
              "500     Afghanistan     130113.0        5477.0          NaN                NaN\n",
              "1512        Albania     132565.0        2456.0          NaN           582106.0\n",
              "2012        Algeria     143652.0        3798.0          NaN                NaN\n",
              "2506        Andorra      14050.0         127.0          NaN                NaN\n",
              "2982         Angola      39593.0         925.0          NaN                NaN\n",
              "...             ...          ...           ...          ...                ...\n",
              "98551     Venezuela     281907.0        3253.0          NaN                NaN\n",
              "99084       Vietnam      24810.0         104.0          NaN          3734268.0\n",
              "100179        Yemen       6936.0        1365.0          NaN                NaN\n",
              "100657       Zambia     170456.0        2672.0    1939454.0           142198.0\n",
              "101133     Zimbabwe      62383.0        2029.0     720873.0                NaN\n",
              "\n",
              "[200 rows x 5 columns]"
            ]
          },
          "metadata": {
            "tags": []
          },
          "execution_count": 148
        }
      ]
    },
    {
      "cell_type": "code",
      "metadata": {
        "colab": {
          "base_uri": "https://localhost:8080/"
        },
        "id": "7WbnYTVGY1b-",
        "outputId": "dfdcec2b-7f61-49ec-b7b6-d55f1e4d8eea"
      },
      "source": [
        "df2.info()"
      ],
      "execution_count": 149,
      "outputs": [
        {
          "output_type": "stream",
          "text": [
            "<class 'pandas.core.frame.DataFrame'>\n",
            "Int64Index: 200 entries, 500 to 101133\n",
            "Data columns (total 5 columns):\n",
            " #   Column             Non-Null Count  Dtype  \n",
            "---  ------             --------------  -----  \n",
            " 0   location           200 non-null    object \n",
            " 1   total_cases        194 non-null    float64\n",
            " 2   total_deaths       187 non-null    float64\n",
            " 3   total_tests        57 non-null     float64\n",
            " 4   people_vaccinated  72 non-null     float64\n",
            "dtypes: float64(4), object(1)\n",
            "memory usage: 9.4+ KB\n"
          ],
          "name": "stdout"
        }
      ]
    },
    {
      "cell_type": "markdown",
      "metadata": {
        "id": "GhGiGcehpulC"
      },
      "source": [
        "# Creating Bi-Variate Datasets for EDA"
      ]
    },
    {
      "cell_type": "code",
      "metadata": {
        "id": "WKFpPfva-XAB"
      },
      "source": [
        "total_cases = df2[[\"location\", \"total_cases\"]]\n",
        "total_deaths = df2[[\"location\", \"total_deaths\"]]\n",
        "total_tests = df2[[\"location\", \"total_tests\"]]\n",
        "people_vaccinated = df2[[\"location\", \"people_vaccinated\"]]"
      ],
      "execution_count": 150,
      "outputs": []
    },
    {
      "cell_type": "code",
      "metadata": {
        "id": "Zysdq_c8_Swi"
      },
      "source": [
        "total_cases = total_cases.dropna()\n",
        "total_deaths = total_deaths.dropna()\n",
        "total_tests = total_tests.dropna()\n",
        "people_vaccinated = people_vaccinated.dropna()"
      ],
      "execution_count": 151,
      "outputs": []
    },
    {
      "cell_type": "code",
      "metadata": {
        "colab": {
          "base_uri": "https://localhost:8080/"
        },
        "id": "5zsM5J-TAYW9",
        "outputId": "822a767c-fc26-4d99-f26c-1f4b8369e8e7"
      },
      "source": [
        "print(total_cases.isnull().sum())\n",
        "print(total_deaths.isnull().sum())\n",
        "print(total_tests.isnull().sum())\n",
        "print(people_vaccinated.isnull().sum())"
      ],
      "execution_count": 152,
      "outputs": [
        {
          "output_type": "stream",
          "text": [
            "location       0\n",
            "total_cases    0\n",
            "dtype: int64\n",
            "location        0\n",
            "total_deaths    0\n",
            "dtype: int64\n",
            "location       0\n",
            "total_tests    0\n",
            "dtype: int64\n",
            "location             0\n",
            "people_vaccinated    0\n",
            "dtype: int64\n"
          ],
          "name": "stdout"
        }
      ]
    },
    {
      "cell_type": "code",
      "metadata": {
        "colab": {
          "base_uri": "https://localhost:8080/"
        },
        "id": "RVOq4dkiVAuv",
        "outputId": "f264459f-0c59-4f73-d03d-58496c5ba3df"
      },
      "source": [
        "print(total_cases.info())\n",
        "print(total_deaths.info())\n",
        "print(total_tests.info())\n",
        "print(people_vaccinated.info())"
      ],
      "execution_count": 153,
      "outputs": [
        {
          "output_type": "stream",
          "text": [
            "<class 'pandas.core.frame.DataFrame'>\n",
            "Int64Index: 194 entries, 500 to 101133\n",
            "Data columns (total 2 columns):\n",
            " #   Column       Non-Null Count  Dtype  \n",
            "---  ------       --------------  -----  \n",
            " 0   location     194 non-null    object \n",
            " 1   total_cases  194 non-null    float64\n",
            "dtypes: float64(1), object(1)\n",
            "memory usage: 4.5+ KB\n",
            "None\n",
            "<class 'pandas.core.frame.DataFrame'>\n",
            "Int64Index: 187 entries, 500 to 101133\n",
            "Data columns (total 2 columns):\n",
            " #   Column        Non-Null Count  Dtype  \n",
            "---  ------        --------------  -----  \n",
            " 0   location      187 non-null    object \n",
            " 1   total_deaths  187 non-null    float64\n",
            "dtypes: float64(1), object(1)\n",
            "memory usage: 4.4+ KB\n",
            "None\n",
            "<class 'pandas.core.frame.DataFrame'>\n",
            "Int64Index: 57 entries, 4664 to 101133\n",
            "Data columns (total 2 columns):\n",
            " #   Column       Non-Null Count  Dtype  \n",
            "---  ------       --------------  -----  \n",
            " 0   location     57 non-null     object \n",
            " 1   total_tests  57 non-null     float64\n",
            "dtypes: float64(1), object(1)\n",
            "memory usage: 1.3+ KB\n",
            "None\n",
            "<class 'pandas.core.frame.DataFrame'>\n",
            "Int64Index: 72 entries, 1512 to 100657\n",
            "Data columns (total 2 columns):\n",
            " #   Column             Non-Null Count  Dtype  \n",
            "---  ------             --------------  -----  \n",
            " 0   location           72 non-null     object \n",
            " 1   people_vaccinated  72 non-null     float64\n",
            "dtypes: float64(1), object(1)\n",
            "memory usage: 1.7+ KB\n",
            "None\n"
          ],
          "name": "stdout"
        }
      ]
    },
    {
      "cell_type": "code",
      "metadata": {
        "id": "pKZ42uwXAKMe"
      },
      "source": [
        "total_cases = total_cases.sort_values([\"total_cases\"])\n",
        "total_deaths = total_deaths.sort_values([\"total_deaths\"])\n",
        "total_tests = total_tests.sort_values([\"total_tests\"])\n",
        "people_vaccinated = people_vaccinated.sort_values([\"people_vaccinated\"])"
      ],
      "execution_count": 154,
      "outputs": []
    },
    {
      "cell_type": "markdown",
      "metadata": {
        "id": "xaUwv12gp99c"
      },
      "source": [
        "# Information on Total Cases"
      ]
    },
    {
      "cell_type": "code",
      "metadata": {
        "colab": {
          "base_uri": "https://localhost:8080/",
          "height": 235
        },
        "id": "Cud1BYFrlaPJ",
        "outputId": "09c6113a-8b01-4af9-8f2a-c78343270211"
      },
      "source": [
        "Highest_Number_of_Total_cases = total_cases.tail(6)\n",
        "Highest_Number_of_Total_cases"
      ],
      "execution_count": 155,
      "outputs": [
        {
          "output_type": "execute_result",
          "data": {
            "text/html": [
              "<div>\n",
              "<style scoped>\n",
              "    .dataframe tbody tr th:only-of-type {\n",
              "        vertical-align: middle;\n",
              "    }\n",
              "\n",
              "    .dataframe tbody tr th {\n",
              "        vertical-align: top;\n",
              "    }\n",
              "\n",
              "    .dataframe thead th {\n",
              "        text-align: right;\n",
              "    }\n",
              "</style>\n",
              "<table border=\"1\" class=\"dataframe\">\n",
              "  <thead>\n",
              "    <tr style=\"text-align: right;\">\n",
              "      <th></th>\n",
              "      <th>location</th>\n",
              "      <th>total_cases</th>\n",
              "    </tr>\n",
              "  </thead>\n",
              "  <tbody>\n",
              "    <tr>\n",
              "      <th>75578</th>\n",
              "      <td>Russia</td>\n",
              "      <td>5638901.0</td>\n",
              "    </tr>\n",
              "    <tr>\n",
              "      <th>33283</th>\n",
              "      <td>France</td>\n",
              "      <td>5861128.0</td>\n",
              "    </tr>\n",
              "    <tr>\n",
              "      <th>13356</th>\n",
              "      <td>Brazil</td>\n",
              "      <td>18962762.0</td>\n",
              "    </tr>\n",
              "    <tr>\n",
              "      <th>42344</th>\n",
              "      <td>India</td>\n",
              "      <td>30752950.0</td>\n",
              "    </tr>\n",
              "    <tr>\n",
              "      <th>31470</th>\n",
              "      <td>European Union</td>\n",
              "      <td>32958314.0</td>\n",
              "    </tr>\n",
              "    <tr>\n",
              "      <th>96374</th>\n",
              "      <td>United States</td>\n",
              "      <td>33790505.0</td>\n",
              "    </tr>\n",
              "  </tbody>\n",
              "</table>\n",
              "</div>"
            ],
            "text/plain": [
              "             location  total_cases\n",
              "75578          Russia    5638901.0\n",
              "33283          France    5861128.0\n",
              "13356          Brazil   18962762.0\n",
              "42344           India   30752950.0\n",
              "31470  European Union   32958314.0\n",
              "96374   United States   33790505.0"
            ]
          },
          "metadata": {
            "tags": []
          },
          "execution_count": 155
        }
      ]
    },
    {
      "cell_type": "code",
      "metadata": {
        "colab": {
          "base_uri": "https://localhost:8080/",
          "height": 350
        },
        "id": "u3MMw-wclbl_",
        "outputId": "6b897755-1fe5-4730-8284-62aa659d130b"
      },
      "source": [
        "import matplotlib.pyplot as plt\n",
        "plt.figure(figsize=(10,5))\n",
        "plt.bar(Highest_Number_of_Total_cases[\"location\"], Highest_Number_of_Total_cases[\"total_cases\"])\n",
        "plt.plot()\n",
        "plt.xlabel(\"country\")\n",
        "plt.ylabel(\"total cases\")\n",
        "plt.title(\"Countries with Highest cases\")\n",
        "plt.show()"
      ],
      "execution_count": 181,
      "outputs": [
        {
          "output_type": "display_data",
          "data": {
            "image/png": "[encoded data removed]",
            "text/plain": [
              "<Figure size 720x360 with 1 Axes>"
            ]
          },
          "metadata": {
            "tags": [],
            "needs_background": "light"
          }
        }
      ]
    },
    {
      "cell_type": "code",
      "metadata": {
        "colab": {
          "base_uri": "https://localhost:8080/",
          "height": 204
        },
        "id": "_paneLdDB1ov",
        "outputId": "6ff12204-639f-44ac-e858-02242ae87a18"
      },
      "source": [
        "Least_Number_of_Total_cases = total_cases.head(5)\n",
        "Least_Number_of_Total_cases"
      ],
      "execution_count": 157,
      "outputs": [
        {
          "output_type": "execute_result",
          "data": {
            "text/html": [
              "<div>\n",
              "<style scoped>\n",
              "    .dataframe tbody tr th:only-of-type {\n",
              "        vertical-align: middle;\n",
              "    }\n",
              "\n",
              "    .dataframe tbody tr th {\n",
              "        vertical-align: top;\n",
              "    }\n",
              "\n",
              "    .dataframe thead th {\n",
              "        text-align: right;\n",
              "    }\n",
              "</style>\n",
              "<table border=\"1\" class=\"dataframe\">\n",
              "  <thead>\n",
              "    <tr style=\"text-align: right;\">\n",
              "      <th></th>\n",
              "      <th>location</th>\n",
              "      <th>total_cases</th>\n",
              "    </tr>\n",
              "  </thead>\n",
              "  <tbody>\n",
              "    <tr>\n",
              "      <th>59572</th>\n",
              "      <td>Micronesia (country)</td>\n",
              "      <td>1.0</td>\n",
              "    </tr>\n",
              "    <tr>\n",
              "      <th>48708</th>\n",
              "      <td>Kiribati</td>\n",
              "      <td>2.0</td>\n",
              "    </tr>\n",
              "    <tr>\n",
              "      <th>77820</th>\n",
              "      <td>Samoa</td>\n",
              "      <td>3.0</td>\n",
              "    </tr>\n",
              "    <tr>\n",
              "      <th>57888</th>\n",
              "      <td>Marshall Islands</td>\n",
              "      <td>4.0</td>\n",
              "    </tr>\n",
              "    <tr>\n",
              "      <th>97579</th>\n",
              "      <td>Vanuatu</td>\n",
              "      <td>4.0</td>\n",
              "    </tr>\n",
              "  </tbody>\n",
              "</table>\n",
              "</div>"
            ],
            "text/plain": [
              "                   location  total_cases\n",
              "59572  Micronesia (country)          1.0\n",
              "48708              Kiribati          2.0\n",
              "77820                 Samoa          3.0\n",
              "57888      Marshall Islands          4.0\n",
              "97579               Vanuatu          4.0"
            ]
          },
          "metadata": {
            "tags": []
          },
          "execution_count": 157
        }
      ]
    },
    {
      "cell_type": "code",
      "metadata": {
        "colab": {
          "base_uri": "https://localhost:8080/",
          "height": 350
        },
        "id": "T05taS0mNXq2",
        "outputId": "88d541f3-221e-449e-f3ba-7d580f803859"
      },
      "source": [
        "plt.figure(figsize=(10,5))\n",
        "plt.bar(Least_Number_of_Total_cases[\"location\"], Least_Number_of_Total_cases[\"total_cases\"])\n",
        "plt.plot()\n",
        "plt.xlabel(\"country\")\n",
        "plt.ylabel(\"total cases\")\n",
        "plt.title(\"Countries with least cases\")\n",
        "plt.show()"
      ],
      "execution_count": 180,
      "outputs": [
        {
          "output_type": "display_data",
          "data": {
            "image/png": "[encoded data removed]",
            "text/plain": [
              "<Figure size 720x360 with 1 Axes>"
            ]
          },
          "metadata": {
            "tags": [],
            "needs_background": "light"
          }
        }
      ]
    },
    {
      "cell_type": "markdown",
      "metadata": {
        "id": "VQgIkPVTqZ5E"
      },
      "source": [
        "# Information on Total deaths"
      ]
    },
    {
      "cell_type": "code",
      "metadata": {
        "colab": {
          "base_uri": "https://localhost:8080/",
          "height": 235
        },
        "id": "xHPTXw_onKV6",
        "outputId": "21cc1f80-2839-48ef-9d88-7d70352ae1c1"
      },
      "source": [
        "Highest_Number_of_Total_deaths = total_deaths.tail(6)\n",
        "Highest_Number_of_Total_deaths"
      ],
      "execution_count": 159,
      "outputs": [
        {
          "output_type": "execute_result",
          "data": {
            "text/html": [
              "<div>\n",
              "<style scoped>\n",
              "    .dataframe tbody tr th:only-of-type {\n",
              "        vertical-align: middle;\n",
              "    }\n",
              "\n",
              "    .dataframe tbody tr th {\n",
              "        vertical-align: top;\n",
              "    }\n",
              "\n",
              "    .dataframe thead th {\n",
              "        text-align: right;\n",
              "    }\n",
              "</style>\n",
              "<table border=\"1\" class=\"dataframe\">\n",
              "  <thead>\n",
              "    <tr style=\"text-align: right;\">\n",
              "      <th></th>\n",
              "      <th>location</th>\n",
              "      <th>total_deaths</th>\n",
              "    </tr>\n",
              "  </thead>\n",
              "  <tbody>\n",
              "    <tr>\n",
              "      <th>72531</th>\n",
              "      <td>Peru</td>\n",
              "      <td>193909.0</td>\n",
              "    </tr>\n",
              "    <tr>\n",
              "      <th>59403</th>\n",
              "      <td>Mexico</td>\n",
              "      <td>234458.0</td>\n",
              "    </tr>\n",
              "    <tr>\n",
              "      <th>42344</th>\n",
              "      <td>India</td>\n",
              "      <td>405939.0</td>\n",
              "    </tr>\n",
              "    <tr>\n",
              "      <th>13356</th>\n",
              "      <td>Brazil</td>\n",
              "      <td>530179.0</td>\n",
              "    </tr>\n",
              "    <tr>\n",
              "      <th>96374</th>\n",
              "      <td>United States</td>\n",
              "      <td>606475.0</td>\n",
              "    </tr>\n",
              "    <tr>\n",
              "      <th>31470</th>\n",
              "      <td>European Union</td>\n",
              "      <td>741165.0</td>\n",
              "    </tr>\n",
              "  </tbody>\n",
              "</table>\n",
              "</div>"
            ],
            "text/plain": [
              "             location  total_deaths\n",
              "72531            Peru      193909.0\n",
              "59403          Mexico      234458.0\n",
              "42344           India      405939.0\n",
              "13356          Brazil      530179.0\n",
              "96374   United States      606475.0\n",
              "31470  European Union      741165.0"
            ]
          },
          "metadata": {
            "tags": []
          },
          "execution_count": 159
        }
      ]
    },
    {
      "cell_type": "code",
      "metadata": {
        "colab": {
          "base_uri": "https://localhost:8080/",
          "height": 350
        },
        "id": "_0ULJvmFnU8P",
        "outputId": "8d5c2497-2469-41d5-80a2-9df6e9d7b13d"
      },
      "source": [
        "plt.figure(figsize=(10,5))\n",
        "plt.bar(Highest_Number_of_Total_deaths[\"location\"], Highest_Number_of_Total_deaths[\"total_deaths\"])\n",
        "plt.plot()\n",
        "plt.xlabel(\"country\")\n",
        "plt.ylabel(\"total deaths\")\n",
        "plt.title(\"Countries with Highest deaths\")\n",
        "plt.show()"
      ],
      "execution_count": 177,
      "outputs": [
        {
          "output_type": "display_data",
          "data": {
            "image/png": "[encoded data removed]",
            "text/plain": [
              "<Figure size 720x360 with 1 Axes>"
            ]
          },
          "metadata": {
            "tags": [],
            "needs_background": "light"
          }
        }
      ]
    },
    {
      "cell_type": "code",
      "metadata": {
        "colab": {
          "base_uri": "https://localhost:8080/",
          "height": 204
        },
        "id": "krdjxpDynclm",
        "outputId": "76889394-6ab9-4606-f521-aa1b7b29f892"
      },
      "source": [
        "Least_Number_of_Total_deaths = total_deaths.head(5)\n",
        "Least_Number_of_Total_deaths"
      ],
      "execution_count": 161,
      "outputs": [
        {
          "output_type": "execute_result",
          "data": {
            "text/html": [
              "<div>\n",
              "<style scoped>\n",
              "    .dataframe tbody tr th:only-of-type {\n",
              "        vertical-align: middle;\n",
              "    }\n",
              "\n",
              "    .dataframe tbody tr th {\n",
              "        vertical-align: top;\n",
              "    }\n",
              "\n",
              "    .dataframe thead th {\n",
              "        text-align: right;\n",
              "    }\n",
              "</style>\n",
              "<table border=\"1\" class=\"dataframe\">\n",
              "  <thead>\n",
              "    <tr style=\"text-align: right;\">\n",
              "      <th></th>\n",
              "      <th>location</th>\n",
              "      <th>total_deaths</th>\n",
              "    </tr>\n",
              "  </thead>\n",
              "  <tbody>\n",
              "    <tr>\n",
              "      <th>37222</th>\n",
              "      <td>Grenada</td>\n",
              "      <td>1.0</td>\n",
              "    </tr>\n",
              "    <tr>\n",
              "      <th>11414</th>\n",
              "      <td>Bhutan</td>\n",
              "      <td>1.0</td>\n",
              "    </tr>\n",
              "    <tr>\n",
              "      <th>97579</th>\n",
              "      <td>Vanuatu</td>\n",
              "      <td>1.0</td>\n",
              "    </tr>\n",
              "    <tr>\n",
              "      <th>50641</th>\n",
              "      <td>Laos</td>\n",
              "      <td>3.0</td>\n",
              "    </tr>\n",
              "    <tr>\n",
              "      <th>13886</th>\n",
              "      <td>Brunei</td>\n",
              "      <td>3.0</td>\n",
              "    </tr>\n",
              "  </tbody>\n",
              "</table>\n",
              "</div>"
            ],
            "text/plain": [
              "      location  total_deaths\n",
              "37222  Grenada           1.0\n",
              "11414   Bhutan           1.0\n",
              "97579  Vanuatu           1.0\n",
              "50641     Laos           3.0\n",
              "13886   Brunei           3.0"
            ]
          },
          "metadata": {
            "tags": []
          },
          "execution_count": 161
        }
      ]
    },
    {
      "cell_type": "code",
      "metadata": {
        "colab": {
          "base_uri": "https://localhost:8080/",
          "height": 350
        },
        "id": "-So07SWpoCv2",
        "outputId": "b8ae647d-934b-4816-b50b-81f773accc71"
      },
      "source": [
        "plt.figure(figsize=(10,5))\n",
        "plt.bar(Least_Number_of_Total_deaths[\"location\"], Least_Number_of_Total_deaths[\"total_deaths\"])\n",
        "plt.plot()\n",
        "plt.xlabel(\"country\")\n",
        "plt.ylabel(\"total deaths\")\n",
        "plt.title(\"Countries with least deaths\")\n",
        "plt.show()"
      ],
      "execution_count": 178,
      "outputs": [
        {
          "output_type": "display_data",
          "data": {
            "image/png": "[encoded data removed]",
            "text/plain": [
              "<Figure size 720x360 with 1 Axes>"
            ]
          },
          "metadata": {
            "tags": [],
            "needs_background": "light"
          }
        }
      ]
    },
    {
      "cell_type": "markdown",
      "metadata": {
        "id": "mm208QTLwEE1"
      },
      "source": [
        "# Information on Total Tests"
      ]
    },
    {
      "cell_type": "code",
      "metadata": {
        "id": "l2fUiILHqoJS",
        "colab": {
          "base_uri": "https://localhost:8080/",
          "height": 204
        },
        "outputId": "38eb23d4-69b9-4312-dac5-e1e1e8507bd1"
      },
      "source": [
        " Highest_Number_of_Total_tests = total_tests.tail(5)\n",
        "Highest_Number_of_Total_tests"
      ],
      "execution_count": 163,
      "outputs": [
        {
          "output_type": "execute_result",
          "data": {
            "text/html": [
              "<div>\n",
              "<style scoped>\n",
              "    .dataframe tbody tr th:only-of-type {\n",
              "        vertical-align: middle;\n",
              "    }\n",
              "\n",
              "    .dataframe tbody tr th {\n",
              "        vertical-align: top;\n",
              "    }\n",
              "\n",
              "    .dataframe thead th {\n",
              "        text-align: right;\n",
              "    }\n",
              "</style>\n",
              "<table border=\"1\" class=\"dataframe\">\n",
              "  <thead>\n",
              "    <tr style=\"text-align: right;\">\n",
              "      <th></th>\n",
              "      <th>location</th>\n",
              "      <th>total_tests</th>\n",
              "    </tr>\n",
              "  </thead>\n",
              "  <tbody>\n",
              "    <tr>\n",
              "      <th>33283</th>\n",
              "      <td>France</td>\n",
              "      <td>92391415.0</td>\n",
              "    </tr>\n",
              "    <tr>\n",
              "      <th>75578</th>\n",
              "      <td>Russia</td>\n",
              "      <td>154194977.0</td>\n",
              "    </tr>\n",
              "    <tr>\n",
              "      <th>95840</th>\n",
              "      <td>United Kingdom</td>\n",
              "      <td>218648631.0</td>\n",
              "    </tr>\n",
              "    <tr>\n",
              "      <th>42344</th>\n",
              "      <td>India</td>\n",
              "      <td>425843467.0</td>\n",
              "    </tr>\n",
              "    <tr>\n",
              "      <th>96374</th>\n",
              "      <td>United States</td>\n",
              "      <td>472430618.0</td>\n",
              "    </tr>\n",
              "  </tbody>\n",
              "</table>\n",
              "</div>"
            ],
            "text/plain": [
              "             location  total_tests\n",
              "33283          France   92391415.0\n",
              "75578          Russia  154194977.0\n",
              "95840  United Kingdom  218648631.0\n",
              "42344           India  425843467.0\n",
              "96374   United States  472430618.0"
            ]
          },
          "metadata": {
            "tags": []
          },
          "execution_count": 163
        }
      ]
    },
    {
      "cell_type": "code",
      "metadata": {
        "colab": {
          "base_uri": "https://localhost:8080/",
          "height": 350
        },
        "id": "Yjasl6ED0i3y",
        "outputId": "4c10aa33-7b0f-4968-f1a6-2f9d756a6a33"
      },
      "source": [
        "plt.figure(figsize=(10,5))\n",
        "plt.bar(Highest_Number_of_Total_tests[\"location\"], Highest_Number_of_Total_tests[\"total_tests\"])\n",
        "plt.plot()\n",
        "plt.xlabel(\"country\")\n",
        "plt.ylabel(\"total tests\")\n",
        "plt.title(\"Countries with highest tests\")\n",
        "plt.show()"
      ],
      "execution_count": 179,
      "outputs": [
        {
          "output_type": "display_data",
          "data": {
            "image/png": "[encoded data removed]",
            "text/plain": [
              "<Figure size 720x360 with 1 Axes>"
            ]
          },
          "metadata": {
            "tags": [],
            "needs_background": "light"
          }
        }
      ]
    },
    {
      "cell_type": "code",
      "metadata": {
        "colab": {
          "base_uri": "https://localhost:8080/",
          "height": 204
        },
        "id": "wYwKLo0L00WN",
        "outputId": "f9c5aae8-91ff-4519-d17d-9627f624da79"
      },
      "source": [
        "Least_Number_of_Total_tests = total_tests.head(5)\n",
        "Least_Number_of_Total_tests"
      ],
      "execution_count": 165,
      "outputs": [
        {
          "output_type": "execute_result",
          "data": {
            "text/html": [
              "<div>\n",
              "<style scoped>\n",
              "    .dataframe tbody tr th:only-of-type {\n",
              "        vertical-align: middle;\n",
              "    }\n",
              "\n",
              "    .dataframe tbody tr th {\n",
              "        vertical-align: top;\n",
              "    }\n",
              "\n",
              "    .dataframe thead th {\n",
              "        text-align: right;\n",
              "    }\n",
              "</style>\n",
              "<table border=\"1\" class=\"dataframe\">\n",
              "  <thead>\n",
              "    <tr style=\"text-align: right;\">\n",
              "      <th></th>\n",
              "      <th>location</th>\n",
              "      <th>total_tests</th>\n",
              "    </tr>\n",
              "  </thead>\n",
              "  <tbody>\n",
              "    <tr>\n",
              "      <th>76623</th>\n",
              "      <td>Saint Kitts and Nevis</td>\n",
              "      <td>22206.0</td>\n",
              "    </tr>\n",
              "    <tr>\n",
              "      <th>28442</th>\n",
              "      <td>Equatorial Guinea</td>\n",
              "      <td>161837.0</td>\n",
              "    </tr>\n",
              "    <tr>\n",
              "      <th>55625</th>\n",
              "      <td>Malawi</td>\n",
              "      <td>277185.0</td>\n",
              "    </tr>\n",
              "    <tr>\n",
              "      <th>92073</th>\n",
              "      <td>Togo</td>\n",
              "      <td>372431.0</td>\n",
              "    </tr>\n",
              "    <tr>\n",
              "      <th>49190</th>\n",
              "      <td>Kosovo</td>\n",
              "      <td>685799.0</td>\n",
              "    </tr>\n",
              "  </tbody>\n",
              "</table>\n",
              "</div>"
            ],
            "text/plain": [
              "                    location  total_tests\n",
              "76623  Saint Kitts and Nevis      22206.0\n",
              "28442      Equatorial Guinea     161837.0\n",
              "55625                 Malawi     277185.0\n",
              "92073                   Togo     372431.0\n",
              "49190                 Kosovo     685799.0"
            ]
          },
          "metadata": {
            "tags": []
          },
          "execution_count": 165
        }
      ]
    },
    {
      "cell_type": "code",
      "metadata": {
        "colab": {
          "base_uri": "https://localhost:8080/",
          "height": 350
        },
        "id": "mWNriBD4wray",
        "outputId": "f05fee42-a6de-4d79-8d35-ff29babbf88b"
      },
      "source": [
        "plt.figure(figsize=(10,5))\n",
        "plt.bar(Least_Number_of_Total_tests[\"location\"], Least_Number_of_Total_tests[\"total_tests\"])\n",
        "plt.plot()\n",
        "plt.xlabel(\"country\")\n",
        "plt.ylabel(\"total tests\")\n",
        "plt.title(\"Countries with least tests\")\n",
        "plt.show()"
      ],
      "execution_count": 176,
      "outputs": [
        {
          "output_type": "display_data",
          "data": {
            "image/png": "[encoded data removed]",
            "text/plain": [
              "<Figure size 720x360 with 1 Axes>"
            ]
          },
          "metadata": {
            "tags": [],
            "needs_background": "light"
          }
        }
      ]
    },
    {
      "cell_type": "markdown",
      "metadata": {
        "id": "TROeEYwuwiDJ"
      },
      "source": [
        "# Information on People Vaccinated"
      ]
    },
    {
      "cell_type": "code",
      "metadata": {
        "colab": {
          "base_uri": "https://localhost:8080/",
          "height": 204
        },
        "id": "moNt0xyQ1A64",
        "outputId": "27304e4d-c5c1-49b2-eebc-943e75d66114"
      },
      "source": [
        " Highest_Number_of_people_vaccinated = people_vaccinated.tail(5)\n",
        "Highest_Number_of_people_vaccinated"
      ],
      "execution_count": 167,
      "outputs": [
        {
          "output_type": "execute_result",
          "data": {
            "text/html": [
              "<div>\n",
              "<style scoped>\n",
              "    .dataframe tbody tr th:only-of-type {\n",
              "        vertical-align: middle;\n",
              "    }\n",
              "\n",
              "    .dataframe tbody tr th {\n",
              "        vertical-align: top;\n",
              "    }\n",
              "\n",
              "    .dataframe thead th {\n",
              "        text-align: right;\n",
              "    }\n",
              "</style>\n",
              "<table border=\"1\" class=\"dataframe\">\n",
              "  <thead>\n",
              "    <tr style=\"text-align: right;\">\n",
              "      <th></th>\n",
              "      <th>location</th>\n",
              "      <th>people_vaccinated</th>\n",
              "    </tr>\n",
              "  </thead>\n",
              "  <tbody>\n",
              "    <tr>\n",
              "      <th>93595</th>\n",
              "      <td>Turkey</td>\n",
              "      <td>37318116.0</td>\n",
              "    </tr>\n",
              "    <tr>\n",
              "      <th>13356</th>\n",
              "      <td>Brazil</td>\n",
              "      <td>81987988.0</td>\n",
              "    </tr>\n",
              "    <tr>\n",
              "      <th>96374</th>\n",
              "      <td>United States</td>\n",
              "      <td>183237046.0</td>\n",
              "    </tr>\n",
              "    <tr>\n",
              "      <th>31470</th>\n",
              "      <td>European Union</td>\n",
              "      <td>236710633.0</td>\n",
              "    </tr>\n",
              "    <tr>\n",
              "      <th>42344</th>\n",
              "      <td>India</td>\n",
              "      <td>293508847.0</td>\n",
              "    </tr>\n",
              "  </tbody>\n",
              "</table>\n",
              "</div>"
            ],
            "text/plain": [
              "             location  people_vaccinated\n",
              "93595          Turkey         37318116.0\n",
              "13356          Brazil         81987988.0\n",
              "96374   United States        183237046.0\n",
              "31470  European Union        236710633.0\n",
              "42344           India        293508847.0"
            ]
          },
          "metadata": {
            "tags": []
          },
          "execution_count": 167
        }
      ]
    },
    {
      "cell_type": "code",
      "metadata": {
        "colab": {
          "base_uri": "https://localhost:8080/",
          "height": 350
        },
        "id": "XYQMl5wV1BRh",
        "outputId": "ba0dd342-b841-4c91-b723-d714fc1ba40e"
      },
      "source": [
        "plt.figure(figsize=(10,5))\n",
        "plt.bar(Highest_Number_of_people_vaccinated[\"location\"], Highest_Number_of_people_vaccinated[\"people_vaccinated\"])\n",
        "plt.plot()\n",
        "plt.xlabel(\"country\")\n",
        "plt.ylabel(\"total vaccinated people\")\n",
        "plt.title(\"Countries with highest vaccinated population\")\n",
        "plt.show()"
      ],
      "execution_count": 175,
      "outputs": [
        {
          "output_type": "display_data",
          "data": {
            "image/png": "[encoded data removed]",
            "text/plain": [
              "<Figure size 720x360 with 1 Axes>"
            ]
          },
          "metadata": {
            "tags": [],
            "needs_background": "light"
          }
        }
      ]
    },
    {
      "cell_type": "code",
      "metadata": {
        "colab": {
          "base_uri": "https://localhost:8080/",
          "height": 204
        },
        "id": "4lb0sfm81BxJ",
        "outputId": "36f5feeb-6b71-40e9-fb39-f47f1c9e7897"
      },
      "source": [
        "Least_Number_of_people_vaccinated = people_vaccinated.head(5)\n",
        "Least_Number_of_people_vaccinated"
      ],
      "execution_count": 169,
      "outputs": [
        {
          "output_type": "execute_result",
          "data": {
            "text/html": [
              "<div>\n",
              "<style scoped>\n",
              "    .dataframe tbody tr th:only-of-type {\n",
              "        vertical-align: middle;\n",
              "    }\n",
              "\n",
              "    .dataframe tbody tr th {\n",
              "        vertical-align: top;\n",
              "    }\n",
              "\n",
              "    .dataframe thead th {\n",
              "        text-align: right;\n",
              "    }\n",
              "</style>\n",
              "<table border=\"1\" class=\"dataframe\">\n",
              "  <thead>\n",
              "    <tr style=\"text-align: right;\">\n",
              "      <th></th>\n",
              "      <th>location</th>\n",
              "      <th>people_vaccinated</th>\n",
              "    </tr>\n",
              "  </thead>\n",
              "  <tbody>\n",
              "    <tr>\n",
              "      <th>76623</th>\n",
              "      <td>Saint Kitts and Nevis</td>\n",
              "      <td>22972.0</td>\n",
              "    </tr>\n",
              "    <tr>\n",
              "      <th>77105</th>\n",
              "      <td>Saint Lucia</td>\n",
              "      <td>31127.0</td>\n",
              "    </tr>\n",
              "    <tr>\n",
              "      <th>36748</th>\n",
              "      <td>Greenland</td>\n",
              "      <td>31311.0</td>\n",
              "    </tr>\n",
              "    <tr>\n",
              "      <th>31631</th>\n",
              "      <td>Faeroe Islands</td>\n",
              "      <td>31781.0</td>\n",
              "    </tr>\n",
              "    <tr>\n",
              "      <th>17545</th>\n",
              "      <td>Cayman Islands</td>\n",
              "      <td>48764.0</td>\n",
              "    </tr>\n",
              "  </tbody>\n",
              "</table>\n",
              "</div>"
            ],
            "text/plain": [
              "                    location  people_vaccinated\n",
              "76623  Saint Kitts and Nevis            22972.0\n",
              "77105            Saint Lucia            31127.0\n",
              "36748              Greenland            31311.0\n",
              "31631         Faeroe Islands            31781.0\n",
              "17545         Cayman Islands            48764.0"
            ]
          },
          "metadata": {
            "tags": []
          },
          "execution_count": 169
        }
      ]
    },
    {
      "cell_type": "code",
      "metadata": {
        "colab": {
          "base_uri": "https://localhost:8080/",
          "height": 350
        },
        "id": "TpHKPewl1jwh",
        "outputId": "fe03d08c-95f7-479b-d01d-1009af4213c7"
      },
      "source": [
        "plt.figure(figsize=(10,5))\n",
        "plt.bar(Least_Number_of_people_vaccinated[\"location\"], Least_Number_of_people_vaccinated[\"people_vaccinated\"])\n",
        "plt.plot()\n",
        "plt.xlabel(\"country\")\n",
        "plt.ylabel(\"total vaccinated people\")\n",
        "plt.title(\"Countries with least vaccinated population\")\n",
        "plt.show()"
      ],
      "execution_count": 174,
      "outputs": [
        {
          "output_type": "display_data",
          "data": {
            "image/png": "[encoded data removed]",
            "text/plain": [
              "<Figure size 720x360 with 1 Axes>"
            ]
          },
          "metadata": {
            "tags": [],
            "needs_background": "light"
          }
        }
      ]
    },
    {
      "cell_type": "code",
      "metadata": {
        "id": "JjYuNPRr1B7g"
      },
      "source": [
        ""
      ],
      "execution_count": 170,
      "outputs": []
    }
  ]
}